{
  "cells": [
    {
      "cell_type": "code",
      "execution_count": null,
      "metadata": {
        "colab": {
          "base_uri": "https://localhost:8080/"
        },
        "id": "c1vix445ZA0F",
        "outputId": "deb0c8d3-3dd2-460b-b9e8-b49beabe252b"
      },
      "outputs": [
        {
          "name": "stdout",
          "output_type": "stream",
          "text": [
            "Collecting openai\n",
            "  Downloading openai-1.45.1-py3-none-any.whl.metadata (22 kB)\n",
            "Requirement already satisfied: anyio<5,>=3.5.0 in /usr/local/lib/python3.10/dist-packages (from openai) (3.7.1)\n",
            "Requirement already satisfied: distro<2,>=1.7.0 in /usr/lib/python3/dist-packages (from openai) (1.7.0)\n",
            "Collecting httpx<1,>=0.23.0 (from openai)\n",
            "  Downloading httpx-0.27.2-py3-none-any.whl.metadata (7.1 kB)\n",
            "Collecting jiter<1,>=0.4.0 (from openai)\n",
            "  Downloading jiter-0.5.0-cp310-cp310-manylinux_2_17_x86_64.manylinux2014_x86_64.whl.metadata (3.6 kB)\n",
            "Requirement already satisfied: pydantic<3,>=1.9.0 in /usr/local/lib/python3.10/dist-packages (from openai) (2.9.1)\n",
            "Requirement already satisfied: sniffio in /usr/local/lib/python3.10/dist-packages (from openai) (1.3.1)\n",
            "Requirement already satisfied: tqdm>4 in /usr/local/lib/python3.10/dist-packages (from openai) (4.66.5)\n",
            "Requirement already satisfied: typing-extensions<5,>=4.11 in /usr/local/lib/python3.10/dist-packages (from openai) (4.12.2)\n",
            "Requirement already satisfied: idna>=2.8 in /usr/local/lib/python3.10/dist-packages (from anyio<5,>=3.5.0->openai) (3.8)\n",
            "Requirement already satisfied: exceptiongroup in /usr/local/lib/python3.10/dist-packages (from anyio<5,>=3.5.0->openai) (1.2.2)\n",
            "Requirement already satisfied: certifi in /usr/local/lib/python3.10/dist-packages (from httpx<1,>=0.23.0->openai) (2024.8.30)\n",
            "Collecting httpcore==1.* (from httpx<1,>=0.23.0->openai)\n",
            "  Downloading httpcore-1.0.5-py3-none-any.whl.metadata (20 kB)\n",
            "Collecting h11<0.15,>=0.13 (from httpcore==1.*->httpx<1,>=0.23.0->openai)\n",
            "  Downloading h11-0.14.0-py3-none-any.whl.metadata (8.2 kB)\n",
            "Requirement already satisfied: annotated-types>=0.6.0 in /usr/local/lib/python3.10/dist-packages (from pydantic<3,>=1.9.0->openai) (0.7.0)\n",
            "Requirement already satisfied: pydantic-core==2.23.3 in /usr/local/lib/python3.10/dist-packages (from pydantic<3,>=1.9.0->openai) (2.23.3)\n",
            "Downloading openai-1.45.1-py3-none-any.whl (374 kB)\n",
            "\u001b[2K   \u001b[90m━━━━━━━━━━━━━━━━━━━━━━━━━━━━━━━━━━━━━━━━\u001b[0m \u001b[32m374.2/374.2 kB\u001b[0m \u001b[31m7.4 MB/s\u001b[0m eta \u001b[36m0:00:00\u001b[0m\n",
            "\u001b[?25hDownloading httpx-0.27.2-py3-none-any.whl (76 kB)\n",
            "\u001b[2K   \u001b[90m━━━━━━━━━━━━━━━━━━━━━━━━━━━━━━━━━━━━━━━━\u001b[0m \u001b[32m76.4/76.4 kB\u001b[0m \u001b[31m5.2 MB/s\u001b[0m eta \u001b[36m0:00:00\u001b[0m\n",
            "\u001b[?25hDownloading httpcore-1.0.5-py3-none-any.whl (77 kB)\n",
            "\u001b[2K   \u001b[90m━━━━━━━━━━━━━━━━━━━━━━━━━━━━━━━━━━━━━━━━\u001b[0m \u001b[32m77.9/77.9 kB\u001b[0m \u001b[31m5.3 MB/s\u001b[0m eta \u001b[36m0:00:00\u001b[0m\n",
            "\u001b[?25hDownloading jiter-0.5.0-cp310-cp310-manylinux_2_17_x86_64.manylinux2014_x86_64.whl (318 kB)\n",
            "\u001b[2K   \u001b[90m━━━━━━━━━━━━━━━━━━━━━━━━━━━━━━━━━━━━━━━━\u001b[0m \u001b[32m318.9/318.9 kB\u001b[0m \u001b[31m19.8 MB/s\u001b[0m eta \u001b[36m0:00:00\u001b[0m\n",
            "\u001b[?25hDownloading h11-0.14.0-py3-none-any.whl (58 kB)\n",
            "\u001b[2K   \u001b[90m━━━━━━━━━━━━━━━━━━━━━━━━━━━━━━━━━━━━━━━━\u001b[0m \u001b[32m58.3/58.3 kB\u001b[0m \u001b[31m3.8 MB/s\u001b[0m eta \u001b[36m0:00:00\u001b[0m\n",
            "\u001b[?25hInstalling collected packages: jiter, h11, httpcore, httpx, openai\n",
            "Successfully installed h11-0.14.0 httpcore-1.0.5 httpx-0.27.2 jiter-0.5.0 openai-1.45.1\n"
          ]
        }
      ],
      "source": [
        "!pip install -U openai"
      ]
    },
    {
      "cell_type": "code",
      "execution_count": null,
      "metadata": {
        "colab": {
          "base_uri": "https://localhost:8080/",
          "height": 206
        },
        "id": "3CrE5NGZZBlx",
        "outputId": "df856b57-f492-4a64-8f93-559a6a76393a"
      },
      "outputs": [
        {
          "data": {
            "application/vnd.google.colaboratory.intrinsic+json": {
              "summary": "{\n  \"name\": \"df\",\n  \"rows\": 100,\n  \"fields\": [\n    {\n      \"column\": \"Support Query\",\n      \"properties\": {\n        \"dtype\": \"string\",\n        \"num_unique_values\": 100,\n        \"samples\": [\n          \"How can I set up fraud alerts on my account?\",\n          \"How can I get a history of all my transactions for the past year?\",\n          \"I can\\u2019t log into my mobile banking app.\"\n        ],\n        \"semantic_type\": \"\",\n        \"description\": \"\"\n      }\n    },\n    {\n      \"column\": \"Top Category\",\n      \"properties\": {\n        \"dtype\": \"category\",\n        \"num_unique_values\": 10,\n        \"samples\": [\n          \"Fraud and Security\",\n          \"Loans and Mortgages\",\n          \"Transaction Services\"\n        ],\n        \"semantic_type\": \"\",\n        \"description\": \"\"\n      }\n    },\n    {\n      \"column\": \"Sub Category\",\n      \"properties\": {\n        \"dtype\": \"category\",\n        \"num_unique_values\": 30,\n        \"samples\": [\n          \"Account Types\",\n          \"Transaction Inquiry\",\n          \"Security and Access\"\n        ],\n        \"semantic_type\": \"\",\n        \"description\": \"\"\n      }\n    }\n  ]\n}",
              "type": "dataframe",
              "variable_name": "df"
            },
            "text/html": [
              "\n",
              "  <div id=\"df-86f05033-33b6-4306-aac8-75d71f05592a\" class=\"colab-df-container\">\n",
              "    <div>\n",
              "<style scoped>\n",
              "    .dataframe tbody tr th:only-of-type {\n",
              "        vertical-align: middle;\n",
              "    }\n",
              "\n",
              "    .dataframe tbody tr th {\n",
              "        vertical-align: top;\n",
              "    }\n",
              "\n",
              "    .dataframe thead th {\n",
              "        text-align: right;\n",
              "    }\n",
              "</style>\n",
              "<table border=\"1\" class=\"dataframe\">\n",
              "  <thead>\n",
              "    <tr style=\"text-align: right;\">\n",
              "      <th></th>\n",
              "      <th>Support Query</th>\n",
              "      <th>Top Category</th>\n",
              "      <th>Sub Category</th>\n",
              "    </tr>\n",
              "  </thead>\n",
              "  <tbody>\n",
              "    <tr>\n",
              "      <th>0</th>\n",
              "      <td>Can you explain the monthly maintenance fee on...</td>\n",
              "      <td>Fees and Charges</td>\n",
              "      <td>Understanding Fees</td>\n",
              "    </tr>\n",
              "    <tr>\n",
              "      <th>1</th>\n",
              "      <td>I was charged a fee for an ATM withdrawal, why?</td>\n",
              "      <td>Fees and Charges</td>\n",
              "      <td>Understanding Fees</td>\n",
              "    </tr>\n",
              "    <tr>\n",
              "      <th>2</th>\n",
              "      <td>How do I dispute a transaction fee I believe i...</td>\n",
              "      <td>Fees and Charges</td>\n",
              "      <td>Dispute Charges</td>\n",
              "    </tr>\n",
              "    <tr>\n",
              "      <th>3</th>\n",
              "      <td>Are there any fees for using online banking?</td>\n",
              "      <td>Fees and Charges</td>\n",
              "      <td>Understanding Fees</td>\n",
              "    </tr>\n",
              "    <tr>\n",
              "      <th>4</th>\n",
              "      <td>What are the charges for a wire transfer?</td>\n",
              "      <td>Fees and Charges</td>\n",
              "      <td>Understanding Fees</td>\n",
              "    </tr>\n",
              "  </tbody>\n",
              "</table>\n",
              "</div>\n",
              "    <div class=\"colab-df-buttons\">\n",
              "\n",
              "  <div class=\"colab-df-container\">\n",
              "    <button class=\"colab-df-convert\" onclick=\"convertToInteractive('df-86f05033-33b6-4306-aac8-75d71f05592a')\"\n",
              "            title=\"Convert this dataframe to an interactive table.\"\n",
              "            style=\"display:none;\">\n",
              "\n",
              "  <svg xmlns=\"http://www.w3.org/2000/svg\" height=\"24px\" viewBox=\"0 -960 960 960\">\n",
              "    <path d=\"M120-120v-720h720v720H120Zm60-500h600v-160H180v160Zm220 220h160v-160H400v160Zm0 220h160v-160H400v160ZM180-400h160v-160H180v160Zm440 0h160v-160H620v160ZM180-180h160v-160H180v160Zm440 0h160v-160H620v160Z\"/>\n",
              "  </svg>\n",
              "    </button>\n",
              "\n",
              "  <style>\n",
              "    .colab-df-container {\n",
              "      display:flex;\n",
              "      gap: 12px;\n",
              "    }\n",
              "\n",
              "    .colab-df-convert {\n",
              "      background-color: #E8F0FE;\n",
              "      border: none;\n",
              "      border-radius: 50%;\n",
              "      cursor: pointer;\n",
              "      display: none;\n",
              "      fill: #1967D2;\n",
              "      height: 32px;\n",
              "      padding: 0 0 0 0;\n",
              "      width: 32px;\n",
              "    }\n",
              "\n",
              "    .colab-df-convert:hover {\n",
              "      background-color: #E2EBFA;\n",
              "      box-shadow: 0px 1px 2px rgba(60, 64, 67, 0.3), 0px 1px 3px 1px rgba(60, 64, 67, 0.15);\n",
              "      fill: #174EA6;\n",
              "    }\n",
              "\n",
              "    .colab-df-buttons div {\n",
              "      margin-bottom: 4px;\n",
              "    }\n",
              "\n",
              "    [theme=dark] .colab-df-convert {\n",
              "      background-color: #3B4455;\n",
              "      fill: #D2E3FC;\n",
              "    }\n",
              "\n",
              "    [theme=dark] .colab-df-convert:hover {\n",
              "      background-color: #434B5C;\n",
              "      box-shadow: 0px 1px 3px 1px rgba(0, 0, 0, 0.15);\n",
              "      filter: drop-shadow(0px 1px 2px rgba(0, 0, 0, 0.3));\n",
              "      fill: #FFFFFF;\n",
              "    }\n",
              "  </style>\n",
              "\n",
              "    <script>\n",
              "      const buttonEl =\n",
              "        document.querySelector('#df-86f05033-33b6-4306-aac8-75d71f05592a button.colab-df-convert');\n",
              "      buttonEl.style.display =\n",
              "        google.colab.kernel.accessAllowed ? 'block' : 'none';\n",
              "\n",
              "      async function convertToInteractive(key) {\n",
              "        const element = document.querySelector('#df-86f05033-33b6-4306-aac8-75d71f05592a');\n",
              "        const dataTable =\n",
              "          await google.colab.kernel.invokeFunction('convertToInteractive',\n",
              "                                                    [key], {});\n",
              "        if (!dataTable) return;\n",
              "\n",
              "        const docLinkHtml = 'Like what you see? Visit the ' +\n",
              "          '<a target=\"_blank\" href=https://colab.research.google.com/notebooks/data_table.ipynb>data table notebook</a>'\n",
              "          + ' to learn more about interactive tables.';\n",
              "        element.innerHTML = '';\n",
              "        dataTable['output_type'] = 'display_data';\n",
              "        await google.colab.output.renderOutput(dataTable, element);\n",
              "        const docLink = document.createElement('div');\n",
              "        docLink.innerHTML = docLinkHtml;\n",
              "        element.appendChild(docLink);\n",
              "      }\n",
              "    </script>\n",
              "  </div>\n",
              "\n",
              "\n",
              "<div id=\"df-797ee7ca-575c-4b3b-828c-2dadf6db23a5\">\n",
              "  <button class=\"colab-df-quickchart\" onclick=\"quickchart('df-797ee7ca-575c-4b3b-828c-2dadf6db23a5')\"\n",
              "            title=\"Suggest charts\"\n",
              "            style=\"display:none;\">\n",
              "\n",
              "<svg xmlns=\"http://www.w3.org/2000/svg\" height=\"24px\"viewBox=\"0 0 24 24\"\n",
              "     width=\"24px\">\n",
              "    <g>\n",
              "        <path d=\"M19 3H5c-1.1 0-2 .9-2 2v14c0 1.1.9 2 2 2h14c1.1 0 2-.9 2-2V5c0-1.1-.9-2-2-2zM9 17H7v-7h2v7zm4 0h-2V7h2v10zm4 0h-2v-4h2v4z\"/>\n",
              "    </g>\n",
              "</svg>\n",
              "  </button>\n",
              "\n",
              "<style>\n",
              "  .colab-df-quickchart {\n",
              "      --bg-color: #E8F0FE;\n",
              "      --fill-color: #1967D2;\n",
              "      --hover-bg-color: #E2EBFA;\n",
              "      --hover-fill-color: #174EA6;\n",
              "      --disabled-fill-color: #AAA;\n",
              "      --disabled-bg-color: #DDD;\n",
              "  }\n",
              "\n",
              "  [theme=dark] .colab-df-quickchart {\n",
              "      --bg-color: #3B4455;\n",
              "      --fill-color: #D2E3FC;\n",
              "      --hover-bg-color: #434B5C;\n",
              "      --hover-fill-color: #FFFFFF;\n",
              "      --disabled-bg-color: #3B4455;\n",
              "      --disabled-fill-color: #666;\n",
              "  }\n",
              "\n",
              "  .colab-df-quickchart {\n",
              "    background-color: var(--bg-color);\n",
              "    border: none;\n",
              "    border-radius: 50%;\n",
              "    cursor: pointer;\n",
              "    display: none;\n",
              "    fill: var(--fill-color);\n",
              "    height: 32px;\n",
              "    padding: 0;\n",
              "    width: 32px;\n",
              "  }\n",
              "\n",
              "  .colab-df-quickchart:hover {\n",
              "    background-color: var(--hover-bg-color);\n",
              "    box-shadow: 0 1px 2px rgba(60, 64, 67, 0.3), 0 1px 3px 1px rgba(60, 64, 67, 0.15);\n",
              "    fill: var(--button-hover-fill-color);\n",
              "  }\n",
              "\n",
              "  .colab-df-quickchart-complete:disabled,\n",
              "  .colab-df-quickchart-complete:disabled:hover {\n",
              "    background-color: var(--disabled-bg-color);\n",
              "    fill: var(--disabled-fill-color);\n",
              "    box-shadow: none;\n",
              "  }\n",
              "\n",
              "  .colab-df-spinner {\n",
              "    border: 2px solid var(--fill-color);\n",
              "    border-color: transparent;\n",
              "    border-bottom-color: var(--fill-color);\n",
              "    animation:\n",
              "      spin 1s steps(1) infinite;\n",
              "  }\n",
              "\n",
              "  @keyframes spin {\n",
              "    0% {\n",
              "      border-color: transparent;\n",
              "      border-bottom-color: var(--fill-color);\n",
              "      border-left-color: var(--fill-color);\n",
              "    }\n",
              "    20% {\n",
              "      border-color: transparent;\n",
              "      border-left-color: var(--fill-color);\n",
              "      border-top-color: var(--fill-color);\n",
              "    }\n",
              "    30% {\n",
              "      border-color: transparent;\n",
              "      border-left-color: var(--fill-color);\n",
              "      border-top-color: var(--fill-color);\n",
              "      border-right-color: var(--fill-color);\n",
              "    }\n",
              "    40% {\n",
              "      border-color: transparent;\n",
              "      border-right-color: var(--fill-color);\n",
              "      border-top-color: var(--fill-color);\n",
              "    }\n",
              "    60% {\n",
              "      border-color: transparent;\n",
              "      border-right-color: var(--fill-color);\n",
              "    }\n",
              "    80% {\n",
              "      border-color: transparent;\n",
              "      border-right-color: var(--fill-color);\n",
              "      border-bottom-color: var(--fill-color);\n",
              "    }\n",
              "    90% {\n",
              "      border-color: transparent;\n",
              "      border-bottom-color: var(--fill-color);\n",
              "    }\n",
              "  }\n",
              "</style>\n",
              "\n",
              "  <script>\n",
              "    async function quickchart(key) {\n",
              "      const quickchartButtonEl =\n",
              "        document.querySelector('#' + key + ' button');\n",
              "      quickchartButtonEl.disabled = true;  // To prevent multiple clicks.\n",
              "      quickchartButtonEl.classList.add('colab-df-spinner');\n",
              "      try {\n",
              "        const charts = await google.colab.kernel.invokeFunction(\n",
              "            'suggestCharts', [key], {});\n",
              "      } catch (error) {\n",
              "        console.error('Error during call to suggestCharts:', error);\n",
              "      }\n",
              "      quickchartButtonEl.classList.remove('colab-df-spinner');\n",
              "      quickchartButtonEl.classList.add('colab-df-quickchart-complete');\n",
              "    }\n",
              "    (() => {\n",
              "      let quickchartButtonEl =\n",
              "        document.querySelector('#df-797ee7ca-575c-4b3b-828c-2dadf6db23a5 button');\n",
              "      quickchartButtonEl.style.display =\n",
              "        google.colab.kernel.accessAllowed ? 'block' : 'none';\n",
              "    })();\n",
              "  </script>\n",
              "</div>\n",
              "\n",
              "    </div>\n",
              "  </div>\n"
            ],
            "text/plain": [
              "                                       Support Query      Top Category  \\\n",
              "0  Can you explain the monthly maintenance fee on...  Fees and Charges   \n",
              "1    I was charged a fee for an ATM withdrawal, why?  Fees and Charges   \n",
              "2  How do I dispute a transaction fee I believe i...  Fees and Charges   \n",
              "3       Are there any fees for using online banking?  Fees and Charges   \n",
              "4          What are the charges for a wire transfer?  Fees and Charges   \n",
              "\n",
              "         Sub Category  \n",
              "0  Understanding Fees  \n",
              "1  Understanding Fees  \n",
              "2     Dispute Charges  \n",
              "3  Understanding Fees  \n",
              "4  Understanding Fees  "
            ]
          },
          "execution_count": 2,
          "metadata": {},
          "output_type": "execute_result"
        }
      ],
      "source": [
        "import pandas as pd\n",
        "df = pd.read_csv(\"/content/bank_support_train.csv\")\n",
        "df.head()"
      ]
    },
    {
      "cell_type": "markdown",
      "metadata": {
        "id": "iv1LphyYxCFF"
      },
      "source": [
        "## Format the Data"
      ]
    },
    {
      "cell_type": "code",
      "execution_count": null,
      "metadata": {
        "colab": {
          "base_uri": "https://localhost:8080/"
        },
        "id": "SslWccK3ZKba",
        "outputId": "b65808a1-fc6f-4413-eee8-f6b2ef9018dd"
      },
      "outputs": [
        {
          "data": {
            "text/plain": [
              "[{'role': 'user',\n",
              "  'content': 'Can you explain the monthly maintenance fee on my account?'},\n",
              " {'role': 'assistant',\n",
              "  'content': '{\"Top Category\": \"Fees and Charges\", \"Sub Category\": \"Understanding Fees\"}'}]"
            ]
          },
          "execution_count": 9,
          "metadata": {},
          "output_type": "execute_result"
        }
      ],
      "source": [
        "def convert_to_gpt35_format(dataset):\n",
        "    fine_tuning_data = []\n",
        "    for _, row in dataset.iterrows():\n",
        "        json_response = '{\"Top Category\": \"' + row['Top Category'] + '\", \"Sub Category\": \"' + row['Sub Category'] + '\"}'\n",
        "        fine_tuning_data.append({\n",
        "            \"messages\": [\n",
        "                {\"role\": \"user\", \"content\": row['Support Query']},\n",
        "                {\"role\": \"assistant\", \"content\": json_response}\n",
        "            ]\n",
        "        })\n",
        "    return fine_tuning_data\n",
        "\n",
        "dataset = pd.read_csv('/content/bank_support_train.csv')\n",
        "converted_data = convert_to_gpt35_format(dataset)\n",
        "converted_data[0]['messages']"
      ]
    },
    {
      "cell_type": "markdown",
      "metadata": {
        "id": "hJqcDHTrxGf8"
      },
      "source": [
        "## Creating Training and Validation Sets"
      ]
    },
    {
      "cell_type": "code",
      "execution_count": null,
      "metadata": {
        "colab": {
          "base_uri": "https://localhost:8080/"
        },
        "id": "rw_VSIs6ZQMP",
        "outputId": "cc457c84-3e3d-4705-a8ec-2d535dfacf8a"
      },
      "outputs": [
        {
          "data": {
            "text/plain": [
              "{'Top Category': 'Fees and Charges', 'Sub Category': 'Understanding Fees'}"
            ]
          },
          "execution_count": 10,
          "metadata": {},
          "output_type": "execute_result"
        }
      ],
      "source": [
        "import json\n",
        "json.loads(converted_data[0]['messages'][-1]['content'])"
      ]
    },
    {
      "cell_type": "code",
      "execution_count": null,
      "metadata": {
        "id": "f4jYoYSlZNqd"
      },
      "outputs": [],
      "source": [
        "from sklearn.model_selection import train_test_split\n",
        "\n",
        "# Stratified splitting. Assuming 'Top Category' can be used for stratification\n",
        "train_data, val_data = train_test_split(\n",
        "    converted_data,\n",
        "    test_size=0.2,\n",
        "    stratify=dataset['Top Category'],\n",
        "    random_state=42  # for reproducibility\n",
        ")"
      ]
    },
    {
      "cell_type": "code",
      "execution_count": null,
      "metadata": {
        "colab": {
          "base_uri": "https://localhost:8080/"
        },
        "id": "e_gInQBxZzhp",
        "outputId": "0b7ab530-e5a5-4c5e-e3c1-96a157b60246"
      },
      "outputs": [
        {
          "data": {
            "text/plain": [
              "dict"
            ]
          },
          "execution_count": 12,
          "metadata": {},
          "output_type": "execute_result"
        }
      ],
      "source": [
        "type(train_data[0])"
      ]
    },
    {
      "cell_type": "markdown",
      "metadata": {
        "id": "rgPpBslyxKnF"
      },
      "source": [
        "## Creating JSONL Files"
      ]
    },
    {
      "cell_type": "code",
      "execution_count": null,
      "metadata": {
        "id": "HGM6A0xuZzvV"
      },
      "outputs": [],
      "source": [
        "def write_to_jsonl(data, file_path):\n",
        "    with open(file_path, 'w') as file:\n",
        "        for entry in data:\n",
        "            json.dump(entry, file)\n",
        "            file.write('\\n')\n",
        "\n",
        "\n",
        "training_file_name = \"train.jsonl\"\n",
        "validation_file_name = \"val.jsonl\"\n",
        "\n",
        "write_to_jsonl(train_data, training_file_name)\n",
        "write_to_jsonl(val_data, validation_file_name)"
      ]
    },
    {
      "cell_type": "markdown",
      "metadata": {
        "id": "io67E-DNxQ0s"
      },
      "source": [
        "## Uploading Data and Starting the Fine-Tuning Joba"
      ]
    },
    {
      "cell_type": "code",
      "execution_count": null,
      "metadata": {
        "id": "x4hrIAfTZ2ON"
      },
      "outputs": [],
      "source": [
        "from openai import OpenAI\n",
        "client = OpenAI(api_key=\"sk-xxxx\")"
      ]
    },
    {
      "cell_type": "code",
      "execution_count": null,
      "metadata": {
        "colab": {
          "base_uri": "https://localhost:8080/"
        },
        "id": "y9i4yRn8e-Np",
        "outputId": "446c5ecd-53dd-4bd3-9c20-5fa4fa95c542"
      },
      "outputs": [
        {
          "name": "stdout",
          "output_type": "stream",
          "text": [
            "Training file id: file-uir9A6fJMHkiX3BjMNpmM2Ya\n",
            "Validation file id: file-J5he5Rlth02BmPuRu8pnBbDy\n"
          ]
        }
      ],
      "source": [
        "training_file = client.files.create(\n",
        "    file=open(training_file_name, \"rb\"), purpose=\"fine-tune\"\n",
        ")\n",
        "validation_file = client.files.create(\n",
        "    file=open(validation_file_name, \"rb\"), purpose=\"fine-tune\"\n",
        ")\n",
        "\n",
        "print(\"Training file id:\", training_file.id)\n",
        "print(\"Validation file id:\", validation_file.id)"
      ]
    },
    {
      "cell_type": "code",
      "execution_count": null,
      "metadata": {
        "colab": {
          "base_uri": "https://localhost:8080/"
        },
        "id": "Pau2ByHedHkv",
        "outputId": "d680fcfd-c5d7-4b47-c4b1-960548bb02c6"
      },
      "outputs": [
        {
          "data": {
            "text/plain": [
              "FineTuningJob(id='ftjob-IQ1wRlJQ2ax6Ao8n7XOtEqw3', created_at=1726590707, error=Error(code=None, message=None, param=None), fine_tuned_model=None, finished_at=None, hyperparameters=Hyperparameters(n_epochs='auto', batch_size='auto', learning_rate_multiplier='auto'), model='gpt-3.5-turbo-0125', object='fine_tuning.job', organization_id='org-CSD8fR7sjUBiRL5Gou4dcnmv', result_files=[], seed=1126837919, status='validating_files', trained_tokens=None, training_file='file-uir9A6fJMHkiX3BjMNpmM2Ya', validation_file='file-J5he5Rlth02BmPuRu8pnBbDy', estimated_finish=None, integrations=[], user_provided_suffix='fine-tuned')"
            ]
          },
          "execution_count": 20,
          "metadata": {},
          "output_type": "execute_result"
        }
      ],
      "source": [
        "suffix_name = \"fine-tuned\"\n",
        "\n",
        "response = client.fine_tuning.jobs.create(\n",
        "    training_file=training_file.id,\n",
        "    validation_file=validation_file.id,\n",
        "    model=\"gpt-3.5-turbo\",\n",
        "    suffix=suffix_name,\n",
        ")\n",
        "response"
      ]
    },
    {
      "cell_type": "code",
      "execution_count": null,
      "metadata": {
        "colab": {
          "base_uri": "https://localhost:8080/"
        },
        "id": "-U9zAT7HdKlX",
        "outputId": "2169de51-fe89-4d05-a8b2-862257d91a14"
      },
      "outputs": [
        {
          "data": {
            "text/plain": [
              "SyncCursorPage[FineTuningJob](data=[FineTuningJob(id='ftjob-IQ1wRlJQ2ax6Ao8n7XOtEqw3', created_at=1726590707, error=Error(code=None, message=None, param=None), fine_tuned_model=None, finished_at=None, hyperparameters=Hyperparameters(n_epochs='auto', batch_size='auto', learning_rate_multiplier='auto'), model='gpt-3.5-turbo-0125', object='fine_tuning.job', organization_id='org-CSD8fR7sjUBiRL5Gou4dcnmv', result_files=[], seed=1126837919, status='validating_files', trained_tokens=None, training_file='file-uir9A6fJMHkiX3BjMNpmM2Ya', validation_file='file-J5he5Rlth02BmPuRu8pnBbDy', estimated_finish=None, integrations=[], user_provided_suffix='fine-tuned'), FineTuningJob(id='ftjob-B8ho5ldUmDIO9PP9Cli8wlQG', created_at=1721144035, error=Error(code=None, message=None, param=None), fine_tuned_model='ft:gpt-3.5-turbo-0125:personal:fine-tuned:9lectI5X', finished_at=1721144609, hyperparameters=Hyperparameters(n_epochs=3, batch_size=1, learning_rate_multiplier=2), model='gpt-3.5-turbo-0125', object='fine_tuning.job', organization_id='org-CSD8fR7sjUBiRL5Gou4dcnmv', result_files=['file-UUnM0s18RFqSXMEa9MdqVJ3R'], seed=534264031, status='succeeded', trained_tokens=9123, training_file='file-kENzsQv7f8uJrE5xixSrIiIe', validation_file='file-RZnI2WY6HYZwByey9hpMlW8y', estimated_finish=None, integrations=[], user_provided_suffix='fine-tuned'), FineTuningJob(id='ftjob-cant6VW3Dl9Xeo2kfAohkPER', created_at=1721143389, error=Error(code=None, message=None, param=None), fine_tuned_model='ft:gpt-3.5-turbo-0125:personal:fine-tuned:9leP6G4D', finished_at=1721143755, hyperparameters=Hyperparameters(n_epochs=7, batch_size=1, learning_rate_multiplier=2), model='gpt-3.5-turbo-0125', object='fine_tuning.job', organization_id='org-CSD8fR7sjUBiRL5Gou4dcnmv', result_files=['file-vpImfLF29rSJdWEvschPe5cY'], seed=73137862, status='succeeded', trained_tokens=3549, training_file='file-ZhAP3tVvrs3PNwe87J0IgBgB', validation_file='file-wZpSKDacFMNY2KqlLWCWQRLg', estimated_finish=None, integrations=[], user_provided_suffix='fine-tuned'), FineTuningJob(id='ftjob-z5nQeKcBFhke9B9v7s30M1NS', created_at=1719374915, error=Error(code=None, message=None, param=None), fine_tuned_model='ft:gpt-3.5-turbo-0125:personal:fine-tuned:9eEOVoFj', finished_at=1719375477, hyperparameters=Hyperparameters(n_epochs=3, batch_size=1, learning_rate_multiplier=2), model='gpt-3.5-turbo-0125', object='fine_tuning.job', organization_id='org-CSD8fR7sjUBiRL5Gou4dcnmv', result_files=['file-Mv8BkGRotXhAHIrApcsl8yGh'], seed=612846115, status='succeeded', trained_tokens=9123, training_file='file-70f9BDc3HyFw72yIvHBeVFn9', validation_file='file-bPSLjSgSDVtyvnWURT7fNj8p', estimated_finish=None, integrations=[], user_provided_suffix='fine-tuned'), FineTuningJob(id='ftjob-tR4bTKJEQfvDN8XWov0bQk0h', created_at=1719326185, error=Error(code=None, message=None, param=None), fine_tuned_model='ft:gpt-3.5-turbo-0125:personal:fine-tuned:9e1htORL', finished_at=1719326708, hyperparameters=Hyperparameters(n_epochs=3, batch_size=1, learning_rate_multiplier=2), model='gpt-3.5-turbo-0125', object='fine_tuning.job', organization_id='org-CSD8fR7sjUBiRL5Gou4dcnmv', result_files=['file-KGc1wNZwSgARKTUjgMPtSJLb'], seed=1067756028, status='succeeded', trained_tokens=9123, training_file='file-sN1GHB2sY4sRyIcTf49kK47L', validation_file='file-utfAcm2l5aZfja4S1Pc24ULI', estimated_finish=None, integrations=[], user_provided_suffix='fine-tuned'), FineTuningJob(id='ftjob-tF0gXPP2xoOfHLAIrUBJL48B', created_at=1719323199, error=Error(code=None, message=None, param=None), fine_tuned_model='ft:gpt-3.5-turbo-0125:personal:fine-tuned:9e0wRemh', finished_at=1719323766, hyperparameters=Hyperparameters(n_epochs=3, batch_size=1, learning_rate_multiplier=2), model='gpt-3.5-turbo-0125', object='fine_tuning.job', organization_id='org-CSD8fR7sjUBiRL5Gou4dcnmv', result_files=['file-sQdzg0GszuxXBLIDU5pKmsQU'], seed=805001894, status='succeeded', trained_tokens=9123, training_file='file-sN1GHB2sY4sRyIcTf49kK47L', validation_file='file-utfAcm2l5aZfja4S1Pc24ULI', estimated_finish=None, integrations=[], user_provided_suffix='fine-tuned'), FineTuningJob(id='ftjob-Acn4TRlQp13O5jARDxtXCpar', created_at=1719120119, error=Error(code=None, message=None, param=None), fine_tuned_model='ft:gpt-3.5-turbo-0125:personal:yt-tutorial:9dAAK26k', finished_at=1719120895, hyperparameters=Hyperparameters(n_epochs=3, batch_size=1, learning_rate_multiplier=2), model='gpt-3.5-turbo-0125', object='fine_tuning.job', organization_id='org-CSD8fR7sjUBiRL5Gou4dcnmv', result_files=['file-KGbQlnDkDfXb1cIaDoRLtN6t'], seed=1690065900, status='succeeded', trained_tokens=9123, training_file='file-ndVSTTh0sKT5yd8qY7rCxwnI', validation_file='file-u9OW2EpIeVUiPt2iOlpBji1e', estimated_finish=None, integrations=[], user_provided_suffix='yt_tutorial'), FineTuningJob(id='ftjob-ydO2LPutqXBUx1vQWX68yhNl', created_at=1719119215, error=Error(code=None, message=None, param=None), fine_tuned_model='ft:gpt-3.5-turbo-0125:personal:yt-tutorial:9d9sERCU', finished_at=1719119772, hyperparameters=Hyperparameters(n_epochs=3, batch_size=1, learning_rate_multiplier=2), model='gpt-3.5-turbo-0125', object='fine_tuning.job', organization_id='org-CSD8fR7sjUBiRL5Gou4dcnmv', result_files=['file-1lOM4nrdpGczBOQfhOdQyvGE'], seed=819080530, status='succeeded', trained_tokens=9123, training_file='file-SrUTl7yVJVPK1JEQc2H9cksk', validation_file='file-8MmKKz895uTtn6gNrD4dTVkN', estimated_finish=None, integrations=[], user_provided_suffix='yt_tutorial'), FineTuningJob(id='ftjob-52TP4FpLpwhSm6MkxsZSoKkc', created_at=1719118687, error=Error(code=None, message=None, param=None), fine_tuned_model='ft:gpt-3.5-turbo-0125:personal:yt-tutorial:9d9jLop2', finished_at=1719119222, hyperparameters=Hyperparameters(n_epochs=3, batch_size=1, learning_rate_multiplier=2), model='gpt-3.5-turbo-0125', object='fine_tuning.job', organization_id='org-CSD8fR7sjUBiRL5Gou4dcnmv', result_files=['file-30QJsKdUdPo4HE43yypEawAO'], seed=1374468182, status='succeeded', trained_tokens=9123, training_file='file-zzMJhU0fPfBrM4Soo8g3YMXa', validation_file='file-7HvXtsFioNTU3siNAjHxM6JN', estimated_finish=None, integrations=[], user_provided_suffix='yt_tutorial'), FineTuningJob(id='ftjob-ehxZxVFETWoYbIqorDq371g8', created_at=1717542796, error=Error(code=None, message=None, param=None), fine_tuned_model='ft:gpt-3.5-turbo-0125:personal:funnybot:9WXhqTKZ', finished_at=1717543089, hyperparameters=Hyperparameters(n_epochs=10, batch_size=1, learning_rate_multiplier=2), model='gpt-3.5-turbo-0125', object='fine_tuning.job', organization_id='org-CSD8fR7sjUBiRL5Gou4dcnmv', result_files=['file-e64lbZPwGKJdFeWIoABSXJvh'], seed=1940427343, status='succeeded', trained_tokens=4670, training_file='file-qaMYJty2wXPLXWFs39rZdNML', validation_file=None, estimated_finish=None, integrations=[], user_provided_suffix='funnybot')], object='list', has_more=False)"
            ]
          },
          "execution_count": 21,
          "metadata": {},
          "output_type": "execute_result"
        }
      ],
      "source": [
        "client.fine_tuning.jobs.list(limit=10)"
      ]
    },
    {
      "cell_type": "code",
      "execution_count": null,
      "metadata": {
        "colab": {
          "base_uri": "https://localhost:8080/"
        },
        "id": "MN33gan9dNYB",
        "outputId": "beca6c1a-749f-40c1-c370-5855bebf45f3"
      },
      "outputs": [
        {
          "data": {
            "text/plain": [
              "FineTuningJob(id='ftjob-ydO2LPutqXBUx1vQWX68yhNl', created_at=1719119215, error=Error(code=None, message=None, param=None), fine_tuned_model='ft:gpt-3.5-turbo-0125:personal:yt-tutorial:9d9sERCU', finished_at=1719119772, hyperparameters=Hyperparameters(n_epochs=3, batch_size=1, learning_rate_multiplier=2), model='gpt-3.5-turbo-0125', object='fine_tuning.job', organization_id='org-CSD8fR7sjUBiRL5Gou4dcnmv', result_files=['file-1lOM4nrdpGczBOQfhOdQyvGE'], seed=819080530, status='succeeded', trained_tokens=9123, training_file='file-SrUTl7yVJVPK1JEQc2H9cksk', validation_file='file-8MmKKz895uTtn6gNrD4dTVkN', estimated_finish=None, integrations=[], user_provided_suffix='yt_tutorial')"
            ]
          },
          "execution_count": 22,
          "metadata": {},
          "output_type": "execute_result"
        }
      ],
      "source": [
        "response = client.fine_tuning.jobs.retrieve(\"ftjob-ydO2LPutqXBUx1vQWX68yhNl\")\n",
        "response"
      ]
    },
    {
      "cell_type": "code",
      "execution_count": null,
      "metadata": {
        "colab": {
          "base_uri": "https://localhost:8080/"
        },
        "id": "WFcyEKNzdP24",
        "outputId": "590c4381-7abd-4632-e267-dc7c9be19c5c"
      },
      "outputs": [
        {
          "name": "stdout",
          "output_type": "stream",
          "text": [
            "\n",
            "Fine-tuned model id: ft:gpt-3.5-turbo-0125:personal:yt-tutorial:9d9sERCU\n"
          ]
        }
      ],
      "source": [
        "fine_tuned_model_id = response.fine_tuned_model\n",
        "print(\"\\nFine-tuned model id:\", fine_tuned_model_id)"
      ]
    },
    {
      "cell_type": "markdown",
      "metadata": {
        "id": "08E_6PNbxhAg"
      },
      "source": [
        "## Testing the Fine-Tuned Model"
      ]
    },
    {
      "cell_type": "code",
      "execution_count": null,
      "metadata": {
        "id": "JqzmsA-LMiv4"
      },
      "outputs": [],
      "source": [
        "def format_test(row):\n",
        "    formatted_message = [\n",
        "        {\n",
        "            \"role\": \"user\",\n",
        "            \"content\": row['Support Query']\n",
        "        }\n",
        "    ]\n",
        "    return formatted_message\n",
        "\n",
        "def predict(test_messages, fine_tuned_model_id):\n",
        "\n",
        "    response = client.chat.completions.create(\n",
        "        model=fine_tuned_model_id, messages=test_messages, temperature=0, max_tokens=50\n",
        "    )\n",
        "\n",
        "    return response.choices[0].message.content"
      ]
    },
    {
      "cell_type": "code",
      "execution_count": null,
      "metadata": {
        "id": "oD5K2U_ld3RC"
      },
      "outputs": [],
      "source": [
        "def store_predictions(test_df, fine_tuned_model_id):\n",
        "\n",
        "    print(\"fine_tuned_model_id\",fine_tuned_model_id)\n",
        "    test_df['Prediction'] = None\n",
        "\n",
        "    for index, row in test_df.iterrows():\n",
        "        test_message = format_test(row)\n",
        "        prediction_result = predict(test_message, fine_tuned_model_id)\n",
        "        test_df.at[index, 'Prediction'] = prediction_result\n",
        "\n",
        "    test_df.to_csv(\"predictions.csv\")"
      ]
    },
    {
      "cell_type": "code",
      "execution_count": null,
      "metadata": {
        "colab": {
          "base_uri": "https://localhost:8080/"
        },
        "id": "tGO9KzQld5p_",
        "outputId": "7add2eaa-7ffa-46e4-90b0-0fe051215045"
      },
      "outputs": [
        {
          "name": "stdout",
          "output_type": "stream",
          "text": [
            "fine_tuned_model_id ft:gpt-3.5-turbo-0125:personal:yt-tutorial:9d9sERCU\n"
          ]
        }
      ],
      "source": [
        "test_df = pd.read_csv(\"/content/test_queries.csv\")\n",
        "store_predictions(test_df, fine_tuned_model_id)"
      ]
    },
    {
      "cell_type": "code",
      "execution_count": 2,
      "metadata": {
        "colab": {
          "base_uri": "https://localhost:8080/",
          "height": 206
        },
        "id": "6N9-OxehDi_j",
        "outputId": "2f49a0f0-c56b-400a-9e60-ca2a889cbf86"
      },
      "outputs": [
        {
          "data": {
            "application/vnd.google.colaboratory.intrinsic+json": {
              "summary": "{\n  \"name\": \"df_accuracy\",\n  \"rows\": 20,\n  \"fields\": [\n    {\n      \"column\": \"Support Query\",\n      \"properties\": {\n        \"dtype\": \"string\",\n        \"num_unique_values\": 20,\n        \"samples\": [\n          \"Can you explain the monthly maintenance fee on my account?\",\n          \"How do I report a lost or stolen credit card?\",\n          \"I'm getting an error message when trying to transfer money through the app.\"\n        ],\n        \"semantic_type\": \"\",\n        \"description\": \"\"\n      }\n    },\n    {\n      \"column\": \"Top Category\",\n      \"properties\": {\n        \"dtype\": \"string\",\n        \"num_unique_values\": 10,\n        \"samples\": [\n          \"Fraud and Security\",\n          \"Loans and Mortgages\",\n          \"Transaction Services\"\n        ],\n        \"semantic_type\": \"\",\n        \"description\": \"\"\n      }\n    },\n    {\n      \"column\": \"Sub Category\",\n      \"properties\": {\n        \"dtype\": \"string\",\n        \"num_unique_values\": 15,\n        \"samples\": [\n          \"Card Issuance\",\n          \"Technical Support\",\n          \"Understanding Fees\"\n        ],\n        \"semantic_type\": \"\",\n        \"description\": \"\"\n      }\n    },\n    {\n      \"column\": \"Prediction\",\n      \"properties\": {\n        \"dtype\": \"string\",\n        \"num_unique_values\": 13,\n        \"samples\": [\n          \"{\\\"Top Category\\\": \\\"Savings and Investments\\\", \\\"Sub Category\\\": \\\"Account Types\\\"}\",\n          \"{\\\"Top Category\\\": \\\"Online and Mobile Banking\\\", \\\"Sub Category\\\": \\\"Technical Support\\\"}\",\n          \"{\\\"Top Category\\\": \\\"Fees and Charges\\\", \\\"Sub Category\\\": \\\"Understanding Fees\\\"}\"\n        ],\n        \"semantic_type\": \"\",\n        \"description\": \"\"\n      }\n    }\n  ]\n}",
              "type": "dataframe",
              "variable_name": "df_accuracy"
            },
            "text/html": [
              "\n",
              "  <div id=\"df-cf30b965-7edb-4b0f-bb8e-78d73fdaf40f\" class=\"colab-df-container\">\n",
              "    <div>\n",
              "<style scoped>\n",
              "    .dataframe tbody tr th:only-of-type {\n",
              "        vertical-align: middle;\n",
              "    }\n",
              "\n",
              "    .dataframe tbody tr th {\n",
              "        vertical-align: top;\n",
              "    }\n",
              "\n",
              "    .dataframe thead th {\n",
              "        text-align: right;\n",
              "    }\n",
              "</style>\n",
              "<table border=\"1\" class=\"dataframe\">\n",
              "  <thead>\n",
              "    <tr style=\"text-align: right;\">\n",
              "      <th></th>\n",
              "      <th>Support Query</th>\n",
              "      <th>Top Category</th>\n",
              "      <th>Sub Category</th>\n",
              "      <th>Prediction</th>\n",
              "    </tr>\n",
              "  </thead>\n",
              "  <tbody>\n",
              "    <tr>\n",
              "      <th>0</th>\n",
              "      <td>Can you explain the monthly maintenance fee on...</td>\n",
              "      <td>Fees and Charges</td>\n",
              "      <td>Understanding Fees</td>\n",
              "      <td>{\"Top Category\": \"Fees and Charges\", \"Sub Cate...</td>\n",
              "    </tr>\n",
              "    <tr>\n",
              "      <th>1</th>\n",
              "      <td>I was charged a fee for an ATM withdrawal</td>\n",
              "      <td>Fees and Charges</td>\n",
              "      <td>Understanding Fees</td>\n",
              "      <td>{\"Top Category\": \"Fees and Charges\", \"Sub Cate...</td>\n",
              "    </tr>\n",
              "    <tr>\n",
              "      <th>2</th>\n",
              "      <td>What are the current interest rates for home l...</td>\n",
              "      <td>Loans and Mortgages</td>\n",
              "      <td>Loan Application</td>\n",
              "      <td>{\"Top Category\": \"Loans and Mortgages\", \"Sub C...</td>\n",
              "    </tr>\n",
              "    <tr>\n",
              "      <th>3</th>\n",
              "      <td>Can I apply for a mortgage loan online?</td>\n",
              "      <td>Loans and Mortgages</td>\n",
              "      <td>Loan Application</td>\n",
              "      <td>{\"Top Category\": \"Loans and Mortgages\", \"Sub C...</td>\n",
              "    </tr>\n",
              "    <tr>\n",
              "      <th>4</th>\n",
              "      <td>Where can I provide feedback about your services?</td>\n",
              "      <td>Customer Service</td>\n",
              "      <td>Feedback and Suggestions</td>\n",
              "      <td>{\"Top Category\": \"Customer Service\", \"Sub Cate...</td>\n",
              "    </tr>\n",
              "  </tbody>\n",
              "</table>\n",
              "</div>\n",
              "    <div class=\"colab-df-buttons\">\n",
              "\n",
              "  <div class=\"colab-df-container\">\n",
              "    <button class=\"colab-df-convert\" onclick=\"convertToInteractive('df-cf30b965-7edb-4b0f-bb8e-78d73fdaf40f')\"\n",
              "            title=\"Convert this dataframe to an interactive table.\"\n",
              "            style=\"display:none;\">\n",
              "\n",
              "  <svg xmlns=\"http://www.w3.org/2000/svg\" height=\"24px\" viewBox=\"0 -960 960 960\">\n",
              "    <path d=\"M120-120v-720h720v720H120Zm60-500h600v-160H180v160Zm220 220h160v-160H400v160Zm0 220h160v-160H400v160ZM180-400h160v-160H180v160Zm440 0h160v-160H620v160ZM180-180h160v-160H180v160Zm440 0h160v-160H620v160Z\"/>\n",
              "  </svg>\n",
              "    </button>\n",
              "\n",
              "  <style>\n",
              "    .colab-df-container {\n",
              "      display:flex;\n",
              "      gap: 12px;\n",
              "    }\n",
              "\n",
              "    .colab-df-convert {\n",
              "      background-color: #E8F0FE;\n",
              "      border: none;\n",
              "      border-radius: 50%;\n",
              "      cursor: pointer;\n",
              "      display: none;\n",
              "      fill: #1967D2;\n",
              "      height: 32px;\n",
              "      padding: 0 0 0 0;\n",
              "      width: 32px;\n",
              "    }\n",
              "\n",
              "    .colab-df-convert:hover {\n",
              "      background-color: #E2EBFA;\n",
              "      box-shadow: 0px 1px 2px rgba(60, 64, 67, 0.3), 0px 1px 3px 1px rgba(60, 64, 67, 0.15);\n",
              "      fill: #174EA6;\n",
              "    }\n",
              "\n",
              "    .colab-df-buttons div {\n",
              "      margin-bottom: 4px;\n",
              "    }\n",
              "\n",
              "    [theme=dark] .colab-df-convert {\n",
              "      background-color: #3B4455;\n",
              "      fill: #D2E3FC;\n",
              "    }\n",
              "\n",
              "    [theme=dark] .colab-df-convert:hover {\n",
              "      background-color: #434B5C;\n",
              "      box-shadow: 0px 1px 3px 1px rgba(0, 0, 0, 0.15);\n",
              "      filter: drop-shadow(0px 1px 2px rgba(0, 0, 0, 0.3));\n",
              "      fill: #FFFFFF;\n",
              "    }\n",
              "  </style>\n",
              "\n",
              "    <script>\n",
              "      const buttonEl =\n",
              "        document.querySelector('#df-cf30b965-7edb-4b0f-bb8e-78d73fdaf40f button.colab-df-convert');\n",
              "      buttonEl.style.display =\n",
              "        google.colab.kernel.accessAllowed ? 'block' : 'none';\n",
              "\n",
              "      async function convertToInteractive(key) {\n",
              "        const element = document.querySelector('#df-cf30b965-7edb-4b0f-bb8e-78d73fdaf40f');\n",
              "        const dataTable =\n",
              "          await google.colab.kernel.invokeFunction('convertToInteractive',\n",
              "                                                    [key], {});\n",
              "        if (!dataTable) return;\n",
              "\n",
              "        const docLinkHtml = 'Like what you see? Visit the ' +\n",
              "          '<a target=\"_blank\" href=https://colab.research.google.com/notebooks/data_table.ipynb>data table notebook</a>'\n",
              "          + ' to learn more about interactive tables.';\n",
              "        element.innerHTML = '';\n",
              "        dataTable['output_type'] = 'display_data';\n",
              "        await google.colab.output.renderOutput(dataTable, element);\n",
              "        const docLink = document.createElement('div');\n",
              "        docLink.innerHTML = docLinkHtml;\n",
              "        element.appendChild(docLink);\n",
              "      }\n",
              "    </script>\n",
              "  </div>\n",
              "\n",
              "\n",
              "<div id=\"df-db5ffc92-c3da-4e45-9d99-f43e5ff7c32a\">\n",
              "  <button class=\"colab-df-quickchart\" onclick=\"quickchart('df-db5ffc92-c3da-4e45-9d99-f43e5ff7c32a')\"\n",
              "            title=\"Suggest charts\"\n",
              "            style=\"display:none;\">\n",
              "\n",
              "<svg xmlns=\"http://www.w3.org/2000/svg\" height=\"24px\"viewBox=\"0 0 24 24\"\n",
              "     width=\"24px\">\n",
              "    <g>\n",
              "        <path d=\"M19 3H5c-1.1 0-2 .9-2 2v14c0 1.1.9 2 2 2h14c1.1 0 2-.9 2-2V5c0-1.1-.9-2-2-2zM9 17H7v-7h2v7zm4 0h-2V7h2v10zm4 0h-2v-4h2v4z\"/>\n",
              "    </g>\n",
              "</svg>\n",
              "  </button>\n",
              "\n",
              "<style>\n",
              "  .colab-df-quickchart {\n",
              "      --bg-color: #E8F0FE;\n",
              "      --fill-color: #1967D2;\n",
              "      --hover-bg-color: #E2EBFA;\n",
              "      --hover-fill-color: #174EA6;\n",
              "      --disabled-fill-color: #AAA;\n",
              "      --disabled-bg-color: #DDD;\n",
              "  }\n",
              "\n",
              "  [theme=dark] .colab-df-quickchart {\n",
              "      --bg-color: #3B4455;\n",
              "      --fill-color: #D2E3FC;\n",
              "      --hover-bg-color: #434B5C;\n",
              "      --hover-fill-color: #FFFFFF;\n",
              "      --disabled-bg-color: #3B4455;\n",
              "      --disabled-fill-color: #666;\n",
              "  }\n",
              "\n",
              "  .colab-df-quickchart {\n",
              "    background-color: var(--bg-color);\n",
              "    border: none;\n",
              "    border-radius: 50%;\n",
              "    cursor: pointer;\n",
              "    display: none;\n",
              "    fill: var(--fill-color);\n",
              "    height: 32px;\n",
              "    padding: 0;\n",
              "    width: 32px;\n",
              "  }\n",
              "\n",
              "  .colab-df-quickchart:hover {\n",
              "    background-color: var(--hover-bg-color);\n",
              "    box-shadow: 0 1px 2px rgba(60, 64, 67, 0.3), 0 1px 3px 1px rgba(60, 64, 67, 0.15);\n",
              "    fill: var(--button-hover-fill-color);\n",
              "  }\n",
              "\n",
              "  .colab-df-quickchart-complete:disabled,\n",
              "  .colab-df-quickchart-complete:disabled:hover {\n",
              "    background-color: var(--disabled-bg-color);\n",
              "    fill: var(--disabled-fill-color);\n",
              "    box-shadow: none;\n",
              "  }\n",
              "\n",
              "  .colab-df-spinner {\n",
              "    border: 2px solid var(--fill-color);\n",
              "    border-color: transparent;\n",
              "    border-bottom-color: var(--fill-color);\n",
              "    animation:\n",
              "      spin 1s steps(1) infinite;\n",
              "  }\n",
              "\n",
              "  @keyframes spin {\n",
              "    0% {\n",
              "      border-color: transparent;\n",
              "      border-bottom-color: var(--fill-color);\n",
              "      border-left-color: var(--fill-color);\n",
              "    }\n",
              "    20% {\n",
              "      border-color: transparent;\n",
              "      border-left-color: var(--fill-color);\n",
              "      border-top-color: var(--fill-color);\n",
              "    }\n",
              "    30% {\n",
              "      border-color: transparent;\n",
              "      border-left-color: var(--fill-color);\n",
              "      border-top-color: var(--fill-color);\n",
              "      border-right-color: var(--fill-color);\n",
              "    }\n",
              "    40% {\n",
              "      border-color: transparent;\n",
              "      border-right-color: var(--fill-color);\n",
              "      border-top-color: var(--fill-color);\n",
              "    }\n",
              "    60% {\n",
              "      border-color: transparent;\n",
              "      border-right-color: var(--fill-color);\n",
              "    }\n",
              "    80% {\n",
              "      border-color: transparent;\n",
              "      border-right-color: var(--fill-color);\n",
              "      border-bottom-color: var(--fill-color);\n",
              "    }\n",
              "    90% {\n",
              "      border-color: transparent;\n",
              "      border-bottom-color: var(--fill-color);\n",
              "    }\n",
              "  }\n",
              "</style>\n",
              "\n",
              "  <script>\n",
              "    async function quickchart(key) {\n",
              "      const quickchartButtonEl =\n",
              "        document.querySelector('#' + key + ' button');\n",
              "      quickchartButtonEl.disabled = true;  // To prevent multiple clicks.\n",
              "      quickchartButtonEl.classList.add('colab-df-spinner');\n",
              "      try {\n",
              "        const charts = await google.colab.kernel.invokeFunction(\n",
              "            'suggestCharts', [key], {});\n",
              "      } catch (error) {\n",
              "        console.error('Error during call to suggestCharts:', error);\n",
              "      }\n",
              "      quickchartButtonEl.classList.remove('colab-df-spinner');\n",
              "      quickchartButtonEl.classList.add('colab-df-quickchart-complete');\n",
              "    }\n",
              "    (() => {\n",
              "      let quickchartButtonEl =\n",
              "        document.querySelector('#df-db5ffc92-c3da-4e45-9d99-f43e5ff7c32a button');\n",
              "      quickchartButtonEl.style.display =\n",
              "        google.colab.kernel.accessAllowed ? 'block' : 'none';\n",
              "    })();\n",
              "  </script>\n",
              "</div>\n",
              "\n",
              "    </div>\n",
              "  </div>\n"
            ],
            "text/plain": [
              "                                       Support Query         Top Category  \\\n",
              "0  Can you explain the monthly maintenance fee on...     Fees and Charges   \n",
              "1          I was charged a fee for an ATM withdrawal     Fees and Charges   \n",
              "2  What are the current interest rates for home l...  Loans and Mortgages   \n",
              "3            Can I apply for a mortgage loan online?  Loans and Mortgages   \n",
              "4  Where can I provide feedback about your services?     Customer Service   \n",
              "\n",
              "               Sub Category                                         Prediction  \n",
              "0        Understanding Fees  {\"Top Category\": \"Fees and Charges\", \"Sub Cate...  \n",
              "1        Understanding Fees  {\"Top Category\": \"Fees and Charges\", \"Sub Cate...  \n",
              "2          Loan Application  {\"Top Category\": \"Loans and Mortgages\", \"Sub C...  \n",
              "3          Loan Application  {\"Top Category\": \"Loans and Mortgages\", \"Sub C...  \n",
              "4  Feedback and Suggestions  {\"Top Category\": \"Customer Service\", \"Sub Cate...  "
            ]
          },
          "execution_count": 2,
          "metadata": {},
          "output_type": "execute_result"
        }
      ],
      "source": [
        "df_accuracy = pd.read_csv(\"/content/predictions.csv\", index_col=0)\n",
        "df_accuracy.head()"
      ]
    },
    {
      "cell_type": "code",
      "execution_count": null,
      "metadata": {
        "colab": {
          "base_uri": "https://localhost:8080/"
        },
        "id": "J8xib6pa6CWN",
        "outputId": "1e3c17ee-7773-4c02-f00a-3ecb3f59efc6"
      },
      "outputs": [
        {
          "data": {
            "text/plain": [
              "('Top Category Accuracy: 85.0%', 'Sub Category Accuracy: 80.0%')"
            ]
          },
          "execution_count": 42,
          "metadata": {},
          "output_type": "execute_result"
        }
      ],
      "source": [
        "# Displaying the accuracy results with clear labels\n",
        "top_category_accuracy = df_accuracy['Correct Top Category'].mean() * 100\n",
        "sub_category_accuracy = df_accuracy['Correct Sub Category'].mean() * 100\n",
        "\n",
        "# Printing the accuracies with proper labels\n",
        "top_category_accuracy_label = f\"Top Category Accuracy: {top_category_accuracy}%\"\n",
        "sub_category_accuracy_label = f\"Sub Category Accuracy: {sub_category_accuracy}%\"\n",
        "\n",
        "top_category_accuracy_label, sub_category_accuracy_label"
      ]
    }
  ],
  "metadata": {
    "colab": {
      "provenance": []
    },
    "kernelspec": {
      "display_name": "Python 3",
      "name": "python3"
    },
    "language_info": {
      "name": "python"
    }
  },
  "nbformat": 4,
  "nbformat_minor": 0
}
