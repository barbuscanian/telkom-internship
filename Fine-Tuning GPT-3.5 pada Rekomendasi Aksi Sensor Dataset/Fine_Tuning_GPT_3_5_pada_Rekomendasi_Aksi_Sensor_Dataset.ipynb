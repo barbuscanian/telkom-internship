{
  "cells": [
    {
      "cell_type": "markdown",
      "metadata": {
        "id": "mPSB49zJ-4JG"
      },
      "source": [
        "## Instalasi dan Konfigurasi"
      ]
    },
    {
      "cell_type": "code",
      "execution_count": null,
      "metadata": {
        "colab": {
          "base_uri": "https://localhost:8080/"
        },
        "id": "ZSx9E49nREvR",
        "outputId": "d24952d2-e154-4436-f073-b7d291e7bf2a"
      },
      "outputs": [
        {
          "name": "stdout",
          "output_type": "stream",
          "text": [
            "Collecting openai\n",
            "  Downloading openai-1.46.0-py3-none-any.whl.metadata (24 kB)\n",
            "Requirement already satisfied: anyio<5,>=3.5.0 in /usr/local/lib/python3.10/dist-packages (from openai) (3.7.1)\n",
            "Requirement already satisfied: distro<2,>=1.7.0 in /usr/lib/python3/dist-packages (from openai) (1.7.0)\n",
            "Collecting httpx<1,>=0.23.0 (from openai)\n",
            "  Downloading httpx-0.27.2-py3-none-any.whl.metadata (7.1 kB)\n",
            "Collecting jiter<1,>=0.4.0 (from openai)\n",
            "  Downloading jiter-0.5.0-cp310-cp310-manylinux_2_17_x86_64.manylinux2014_x86_64.whl.metadata (3.6 kB)\n",
            "Requirement already satisfied: pydantic<3,>=1.9.0 in /usr/local/lib/python3.10/dist-packages (from openai) (2.9.1)\n",
            "Requirement already satisfied: sniffio in /usr/local/lib/python3.10/dist-packages (from openai) (1.3.1)\n",
            "Requirement already satisfied: tqdm>4 in /usr/local/lib/python3.10/dist-packages (from openai) (4.66.5)\n",
            "Requirement already satisfied: typing-extensions<5,>=4.11 in /usr/local/lib/python3.10/dist-packages (from openai) (4.12.2)\n",
            "Requirement already satisfied: idna>=2.8 in /usr/local/lib/python3.10/dist-packages (from anyio<5,>=3.5.0->openai) (3.10)\n",
            "Requirement already satisfied: exceptiongroup in /usr/local/lib/python3.10/dist-packages (from anyio<5,>=3.5.0->openai) (1.2.2)\n",
            "Requirement already satisfied: certifi in /usr/local/lib/python3.10/dist-packages (from httpx<1,>=0.23.0->openai) (2024.8.30)\n",
            "Collecting httpcore==1.* (from httpx<1,>=0.23.0->openai)\n",
            "  Downloading httpcore-1.0.5-py3-none-any.whl.metadata (20 kB)\n",
            "Collecting h11<0.15,>=0.13 (from httpcore==1.*->httpx<1,>=0.23.0->openai)\n",
            "  Downloading h11-0.14.0-py3-none-any.whl.metadata (8.2 kB)\n",
            "Requirement already satisfied: annotated-types>=0.6.0 in /usr/local/lib/python3.10/dist-packages (from pydantic<3,>=1.9.0->openai) (0.7.0)\n",
            "Requirement already satisfied: pydantic-core==2.23.3 in /usr/local/lib/python3.10/dist-packages (from pydantic<3,>=1.9.0->openai) (2.23.3)\n",
            "Downloading openai-1.46.0-py3-none-any.whl (375 kB)\n",
            "\u001b[2K   \u001b[90m━━━━━━━━━━━━━━━━━━━━━━━━━━━━━━━━━━━━━━━━\u001b[0m \u001b[32m375.0/375.0 kB\u001b[0m \u001b[31m9.5 MB/s\u001b[0m eta \u001b[36m0:00:00\u001b[0m\n",
            "\u001b[?25hDownloading httpx-0.27.2-py3-none-any.whl (76 kB)\n",
            "\u001b[2K   \u001b[90m━━━━━━━━━━━━━━━━━━━━━━━━━━━━━━━━━━━━━━━━\u001b[0m \u001b[32m76.4/76.4 kB\u001b[0m \u001b[31m5.2 MB/s\u001b[0m eta \u001b[36m0:00:00\u001b[0m\n",
            "\u001b[?25hDownloading httpcore-1.0.5-py3-none-any.whl (77 kB)\n",
            "\u001b[2K   \u001b[90m━━━━━━━━━━━━━━━━━━━━━━━━━━━━━━━━━━━━━━━━\u001b[0m \u001b[32m77.9/77.9 kB\u001b[0m \u001b[31m5.3 MB/s\u001b[0m eta \u001b[36m0:00:00\u001b[0m\n",
            "\u001b[?25hDownloading jiter-0.5.0-cp310-cp310-manylinux_2_17_x86_64.manylinux2014_x86_64.whl (318 kB)\n",
            "\u001b[2K   \u001b[90m━━━━━━━━━━━━━━━━━━━━━━━━━━━━━━━━━━━━━━━━\u001b[0m \u001b[32m318.9/318.9 kB\u001b[0m \u001b[31m18.3 MB/s\u001b[0m eta \u001b[36m0:00:00\u001b[0m\n",
            "\u001b[?25hDownloading h11-0.14.0-py3-none-any.whl (58 kB)\n",
            "\u001b[2K   \u001b[90m━━━━━━━━━━━━━━━━━━━━━━━━━━━━━━━━━━━━━━━━\u001b[0m \u001b[32m58.3/58.3 kB\u001b[0m \u001b[31m3.8 MB/s\u001b[0m eta \u001b[36m0:00:00\u001b[0m\n",
            "\u001b[?25hInstalling collected packages: jiter, h11, httpcore, httpx, openai\n",
            "Successfully installed h11-0.14.0 httpcore-1.0.5 httpx-0.27.2 jiter-0.5.0 openai-1.46.0\n"
          ]
        }
      ],
      "source": [
        "!pip install --upgrade openai"
      ]
    },
    {
      "cell_type": "code",
      "execution_count": null,
      "metadata": {
        "id": "OK8tmvLORF_L"
      },
      "outputs": [],
      "source": [
        "import os\n",
        "from openai import OpenAI\n",
        "\n",
        "# Set API key from environment variable or directly in the script\n",
        "client = OpenAI(api_key=\"XXXXX\")  # Ganti dengan API Key Anda"
      ]
    },
    {
      "cell_type": "markdown",
      "metadata": {
        "id": "E_EGmHXI-9xy"
      },
      "source": [
        "## Upload Dataset"
      ]
    },
    {
      "cell_type": "code",
      "execution_count": null,
      "metadata": {
        "colab": {
          "base_uri": "https://localhost:8080/"
        },
        "id": "WsE3WiYbRRs9",
        "outputId": "d983990c-7f4d-49c5-fd90-c02ed8260edf"
      },
      "outputs": [
        {
          "name": "stdout",
          "output_type": "stream",
          "text": [
            "Training File ID: file-UEKEDNnPGRAP7H4jQdVBBbmU\n"
          ]
        }
      ],
      "source": [
        "from pathlib import Path\n",
        "\n",
        "# Upload file untuk fine-tuning\n",
        "response = client.files.create(\n",
        "    file=Path(\"/content/chat_format_dataset.jsonl\"),\n",
        "    purpose=\"fine-tune\"\n",
        ")\n",
        "\n",
        "# Mendapatkan file ID untuk digunakan dalam proses fine-tuning\n",
        "file_id = response.id\n",
        "print(\"Training File ID:\", file_id)"
      ]
    },
    {
      "cell_type": "markdown",
      "metadata": {
        "id": "D2Seo4KO_HLw"
      },
      "source": [
        "## Fine-Tuning Model"
      ]
    },
    {
      "cell_type": "code",
      "execution_count": null,
      "metadata": {
        "colab": {
          "base_uri": "https://localhost:8080/"
        },
        "id": "jeJ9ip7iRY7z",
        "outputId": "7834d646-89ce-4c12-8a0c-3e502c901499"
      },
      "outputs": [
        {
          "name": "stdout",
          "output_type": "stream",
          "text": [
            "Fine-tuning Job ID: ftjob-rfs6VgjschbB1vjHP3jaJq8t\n"
          ]
        }
      ],
      "source": [
        "# Memulai fine-tuning\n",
        "fine_tune_job = client.fine_tuning.jobs.create(\n",
        "    model=\"gpt-3.5-turbo\",\n",
        "    training_file=\"file-UEKEDNnPGRAP7H4jQdVBBbmU\"  # Gunakan file_id dalam tanda kutip\n",
        ")\n",
        "\n",
        "# Mendapatkan ID fine-tuning job\n",
        "print(f\"Fine-tuning Job ID: {fine_tune_job.id}\")\n"
      ]
    },
    {
      "cell_type": "markdown",
      "metadata": {
        "id": "lx447Tul_LOF"
      },
      "source": [
        "## Monitoring Proses Fine-Tuning"
      ]
    },
    {
      "cell_type": "code",
      "execution_count": null,
      "metadata": {
        "colab": {
          "base_uri": "https://localhost:8080/"
        },
        "id": "OF-uzAWlRdMb",
        "outputId": "1da2667f-dec3-47dd-def3-4efa65fdb7af"
      },
      "outputs": [
        {
          "name": "stdout",
          "output_type": "stream",
          "text": [
            "Job ID: ftjob-rfs6VgjschbB1vjHP3jaJq8t, Status: succeeded\n",
            "Job ID: ftjob-59i8TIuYligNq9xTvBENJilF, Status: failed\n",
            "Job ID: ftjob-hzpur1UtDYO2J9X8kiBCQwuR, Status: failed\n",
            "Job ID: ftjob-hsXadnRBriKroToLtLLRhmBP, Status: succeeded\n",
            "Job ID: ftjob-WfwoExJLjTOkt0UIexbt32Rm, Status: succeeded\n",
            "Job ID: ftjob-UoFSlPTA8DYfZulEnIFR2GfT, Status: succeeded\n",
            "Job ID: ftjob-zUGMrlI36s5L07a9cPrL0wzn, Status: failed\n",
            "Job ID: ftjob-PjPfXdSJtJgBdz4tGAH7pYYu, Status: failed\n",
            "Job ID: ftjob-Osa0UQmTV7ZHdxOtLi7AeFOD, Status: failed\n",
            "Job ID: ftjob-VIAm8jJngd3EtJv1tAiYaMr0, Status: failed\n",
            "Job ID: ftjob-ZBiZM6fkPDcXj0uHAuXm7jqJ, Status: failed\n",
            "Job ID: ftjob-Kurup1wkfA52SFguCiAzkkp1, Status: failed\n",
            "Job ID: ftjob-N4g0MJ2nhE4tQfQI5lnjMoxC, Status: failed\n",
            "Job ID: ftjob-W5IEPPUE7mJmcMXvnT9mJXaK, Status: failed\n",
            "Job ID: ftjob-MdZMCfVMe7TB7nGfbdIXKmot, Status: failed\n",
            "Job ID: ftjob-HPsvGbm17EMaNq3moeAwIV4u, Status: failed\n",
            "Job ID: ftjob-y1B0XZGIY6OjpV7BVpMnXx9i, Status: failed\n",
            "Job ID: ftjob-QysurnRAoK2v7fQ9VnUq0ruc, Status: failed\n",
            "Job ID: ftjob-IQ1wRlJQ2ax6Ao8n7XOtEqw3, Status: succeeded\n",
            "Job ID: ftjob-B8ho5ldUmDIO9PP9Cli8wlQG, Status: succeeded\n",
            "Job ID: ftjob-cant6VW3Dl9Xeo2kfAohkPER, Status: succeeded\n",
            "Job ID: ftjob-z5nQeKcBFhke9B9v7s30M1NS, Status: succeeded\n",
            "Job ID: ftjob-tR4bTKJEQfvDN8XWov0bQk0h, Status: succeeded\n",
            "Job ID: ftjob-tF0gXPP2xoOfHLAIrUBJL48B, Status: succeeded\n",
            "Job ID: ftjob-Acn4TRlQp13O5jARDxtXCpar, Status: succeeded\n",
            "Job ID: ftjob-ydO2LPutqXBUx1vQWX68yhNl, Status: succeeded\n",
            "Job ID: ftjob-52TP4FpLpwhSm6MkxsZSoKkc, Status: succeeded\n",
            "Job ID: ftjob-ehxZxVFETWoYbIqorDq371g8, Status: succeeded\n"
          ]
        }
      ],
      "source": [
        "# Melihat daftar fine-tuning jobs yang sedang berlangsung\n",
        "all_jobs = client.fine_tuning.jobs.list()\n",
        "\n",
        "for job in all_jobs:\n",
        "    print(f\"Job ID: {job.id}, Status: {job.status}\")"
      ]
    },
    {
      "cell_type": "code",
      "execution_count": null,
      "metadata": {
        "colab": {
          "base_uri": "https://localhost:8080/"
        },
        "id": "4p3NwpxZUHli",
        "outputId": "a5dfedf2-d823-49e0-c959-06f33fe333da"
      },
      "outputs": [
        {
          "name": "stdout",
          "output_type": "stream",
          "text": [
            "Job ID: ftjob-rfs6VgjschbB1vjHP3jaJq8t, Model ID: ft:gpt-3.5-turbo-0125:personal::A96V2Mbe\n",
            "Job ID: ftjob-hsXadnRBriKroToLtLLRhmBP, Model ID: ft:gpt-3.5-turbo-0125:personal:fine-tuned:A8jupOX1\n",
            "Job ID: ftjob-WfwoExJLjTOkt0UIexbt32Rm, Model ID: ft:gpt-3.5-turbo-0125:personal:fine-tuned:A8jv5def\n",
            "Job ID: ftjob-UoFSlPTA8DYfZulEnIFR2GfT, Model ID: ft:gpt-3.5-turbo-0125:personal:fine-tuned:A8jsf9Rv\n",
            "Job ID: ftjob-IQ1wRlJQ2ax6Ao8n7XOtEqw3, Model ID: ft:gpt-3.5-turbo-0125:personal:fine-tuned:A8VZ4xZP\n",
            "Job ID: ftjob-B8ho5ldUmDIO9PP9Cli8wlQG, Model ID: ft:gpt-3.5-turbo-0125:personal:fine-tuned:9lectI5X\n",
            "Job ID: ftjob-cant6VW3Dl9Xeo2kfAohkPER, Model ID: ft:gpt-3.5-turbo-0125:personal:fine-tuned:9leP6G4D\n",
            "Job ID: ftjob-z5nQeKcBFhke9B9v7s30M1NS, Model ID: ft:gpt-3.5-turbo-0125:personal:fine-tuned:9eEOVoFj\n",
            "Job ID: ftjob-tR4bTKJEQfvDN8XWov0bQk0h, Model ID: ft:gpt-3.5-turbo-0125:personal:fine-tuned:9e1htORL\n",
            "Job ID: ftjob-tF0gXPP2xoOfHLAIrUBJL48B, Model ID: ft:gpt-3.5-turbo-0125:personal:fine-tuned:9e0wRemh\n",
            "Job ID: ftjob-Acn4TRlQp13O5jARDxtXCpar, Model ID: ft:gpt-3.5-turbo-0125:personal:yt-tutorial:9dAAK26k\n",
            "Job ID: ftjob-ydO2LPutqXBUx1vQWX68yhNl, Model ID: ft:gpt-3.5-turbo-0125:personal:yt-tutorial:9d9sERCU\n",
            "Job ID: ftjob-52TP4FpLpwhSm6MkxsZSoKkc, Model ID: ft:gpt-3.5-turbo-0125:personal:yt-tutorial:9d9jLop2\n",
            "Job ID: ftjob-ehxZxVFETWoYbIqorDq371g8, Model ID: ft:gpt-3.5-turbo-0125:personal:funnybot:9WXhqTKZ\n"
          ]
        }
      ],
      "source": [
        "fine_tuned_jobs = client.fine_tuning.jobs.list()\n",
        "\n",
        "for job in fine_tuned_jobs:\n",
        "    if job.status == \"succeeded\":\n",
        "        print(f\"Job ID: {job.id}, Model ID: {job.fine_tuned_model}\")"
      ]
    },
    {
      "cell_type": "markdown",
      "metadata": {
        "id": "veIVeDdP_Q4A"
      },
      "source": [
        "## Penggunaan Model yang Sudah Di-fine-Tune"
      ]
    },
    {
      "cell_type": "code",
      "execution_count": null,
      "metadata": {
        "colab": {
          "base_uri": "https://localhost:8080/"
        },
        "id": "aku229DtSDrB",
        "outputId": "212d7a71-e6c3-4f5c-ad44-075cb38816c9"
      },
      "outputs": [
        {
          "name": "stdout",
          "output_type": "stream",
          "text": [
            "I recommend investigating the significant DoD and WoW drops to mitigate potential risks promptly. With a steady MoM increase and an active anomaly and update, maintain a vigilant monitoring approach to ensure continued growth and stability in the usage pattern.\n"
          ]
        }
      ],
      "source": [
        "# Menggunakan model yang sudah di-fine-tune\n",
        "completion = client.chat.completions.create(\n",
        "    model=\"ft:gpt-3.5-turbo-0125:personal::A96V2Mbe\",  # Ganti dengan ID model fine-tuned Anda\n",
        "    messages=[\n",
        "        {\n",
        "            \"role\": \"user\",  # Bagian data sensor dari user\n",
        "            \"content\": \"today_total_usage: 164.39, dod: -89, wow: -29.08, mom: 3.18, qoq: 0, yoy: 0, current_usage_pattern: 0.3, today_usage_anomaly: true, today_update_anomaly: updated.\"\n",
        "        },\n",
        "        {\n",
        "            \"role\": \"system\",  # Instruksi untuk model\n",
        "            \"content\": \"Offer a direct and professional recommendation based on the provided data. Craft the output as a concise suggestion, maintaining an expert tone with a maximum of 2 sentences and short 1 paragraph.\"\n",
        "        }\n",
        "    ],\n",
        "    max_tokens=100\n",
        ")\n",
        "\n",
        "# Menampilkan hasil prediksi\n",
        "print(completion.choices[0].message.content)"
      ]
    },
    {
      "cell_type": "markdown",
      "metadata": {
        "id": "nNAa7N5X_b9u"
      },
      "source": [
        "## Pengolahan Hasil Prediksi"
      ]
    },
    {
      "cell_type": "code",
      "execution_count": null,
      "metadata": {
        "colab": {
          "base_uri": "https://localhost:8080/"
        },
        "id": "1AbHWMwMW7wK",
        "outputId": "a7643744-98b7-4ec8-8a43-9ff2ee5ff8f4"
      },
      "outputs": [
        {
          "name": "stdout",
          "output_type": "stream",
          "text": [
            "Hasil prediksi disimpan ke: /content/model_predictions.csv\n"
          ]
        }
      ],
      "source": [
        "import pandas as pd\n",
        "import json\n",
        "\n",
        "# Membuat objek klien OpenAI\n",
        "client = OpenAI(api_key=\"sk-proj-XXX\")\n",
        "\n",
        "# Membaca dataset testing dari file JSONL\n",
        "testing_file_path = \"/content/chat_format_dataset.jsonl\"  # Ganti dengan path file Anda\n",
        "testing_data = []\n",
        "with open(testing_file_path, 'r') as file:\n",
        "    for line in file:\n",
        "        testing_data.append(json.loads(line))\n",
        "\n",
        "# List untuk menyimpan hasil prediksi\n",
        "results = []\n",
        "\n",
        "# Loop untuk melakukan prediksi pada setiap baris dataset testing\n",
        "for entry in testing_data:\n",
        "    # Mengambil pesan role \"user\" dan \"system\" dari file\n",
        "    user_content = entry['messages'][0]['content']\n",
        "\n",
        "    # Mencari jika ada pesan untuk role \"system\"\n",
        "    system_content = None\n",
        "    for message in entry['messages']:\n",
        "        if message['role'] == 'system':\n",
        "            system_content = message['content']\n",
        "\n",
        "    # Jika tidak ada konten \"system\", gunakan pesan default\n",
        "    if not system_content:\n",
        "        system_content = \"Offer a direct and professional recommendation based on the provided data. Craft the output as a concise suggestion, maintaining an expert tone with a maximum of 3 sentences and short 1 paragraph\"\n",
        "\n",
        "    # Membuat prediksi dengan model fine-tuned\n",
        "    completion = client.chat.completions.create(\n",
        "        model=\"ft:gpt-3.5-turbo-0125:personal::A96V2Mbe\",  # Ganti dengan ID model fine-tuned Anda\n",
        "        messages=[\n",
        "            {\n",
        "                \"role\": \"user\",\n",
        "                \"content\": user_content  # Mengambil data user dari file JSONL\n",
        "            },\n",
        "            {\n",
        "                \"role\": \"system\",\n",
        "                \"content\": system_content  # Mengambil data system dari file JSONL, atau default jika tidak ada\n",
        "            }\n",
        "        ],\n",
        "        max_tokens=100\n",
        "    )\n",
        "\n",
        "    # Menyimpan input dan output\n",
        "    result = {\n",
        "        \"input_data\": user_content,\n",
        "        \"system_content\": system_content,\n",
        "        \"model_output\": completion.choices[0].message.content\n",
        "    }\n",
        "\n",
        "    results.append(result)\n",
        "\n",
        "# Mengubah hasil menjadi DataFrame untuk disimpan sebagai CSV\n",
        "df = pd.DataFrame(results)\n",
        "\n",
        "# Menyimpan ke file CSV\n",
        "output_file_path = '/content/model_predictions.csv'\n",
        "df.to_csv(output_file_path, index=False)\n",
        "\n",
        "print(f\"Hasil prediksi disimpan ke: {output_file_path}\")\n"
      ]
    }
  ],
  "metadata": {
    "colab": {
      "provenance": []
    },
    "kernelspec": {
      "display_name": "Python 3",
      "name": "python3"
    },
    "language_info": {
      "name": "python"
    }
  },
  "nbformat": 4,
  "nbformat_minor": 0
}
